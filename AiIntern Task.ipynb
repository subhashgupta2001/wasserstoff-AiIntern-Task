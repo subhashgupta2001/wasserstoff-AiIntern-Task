{
 "cells": [
  {
   "cell_type": "markdown",
   "id": "eb8e4093-7bc3-441d-b235-987db197135d",
   "metadata": {},
   "source": [
    "## Internship Task: Domain-Specific PDF Summarization & Keyword Extraction Pipeline"
   ]
  },
  {
   "cell_type": "markdown",
   "id": "a87dac6f-10b7-4a9a-bddc-c1388130ff1b",
   "metadata": {},
   "source": [
    "### 1. PDF Ingestion & Parsing"
   ]
  },
  {
   "cell_type": "code",
   "execution_count": 2,
   "id": "e3a5cd81-e951-44f2-93a8-57e3322ef32e",
   "metadata": {},
   "outputs": [],
   "source": [
    "# First import the necessary libraries\n",
    "import os # for file management\n",
    "import fitz # fitz or PyMuPDF for PDF parsing\n",
    "import concurrent.futures # for concurrency\n",
    "import logging # for error handling and logging"
   ]
  },
  {
   "cell_type": "code",
   "execution_count": 6,
   "id": "d4055e79-973a-4dc2-8589-ab23eb5bb3fb",
   "metadata": {},
   "outputs": [],
   "source": [
    "# Now here going to set up logging\n",
    "logging.basicConfig(level=logging.INFO, filename='pdf_pipline.log', format='%(asctime)s - %(levelname)s - %(message)s')\n",
    "\n",
    "def get_pdf_info(pdf_path):   \n",
    "    \"\"\"Extract metadata from the PDF.\"\"\"\n",
    "    try:\n",
    "        doc = fits.open(pdf_path)\n",
    "        metadata = {\n",
    "            'document_name': os.path.basename(pdf_path),\n",
    "            'path': pdf_path,\n",
    "            'size':os.path.getsize(pdf_path),\n",
    "            'num_pages': doc.page_count\n",
    "        }\n",
    "        return metadata\n",
    "    except Exception as e:\n",
    "        logging.error(f\"Error reading {pdf_path}: {e}\")\n",
    "        return None\n",
    "\n",
    "\n",
    "def process_pdf(folder_path):\n",
    "    \"\"\"Process a single pdf document.\"\"\"\n",
    "    metadata = get_pdf_info(pdf_path)\n",
    "    if metadata:\n",
    "        # Here we can add further processing (e.g., sumrization, keyword extraction)\n",
    "        return metadata\n",
    "    return None\n",
    "\n",
    "def process_pdfs_from_folder(folder_path):\n",
    "    \"\"\"Process all pdf documents in the specified folder.\"\"\"\n",
    "    pdf_files = [os.path.join(folder_path, f) for f in os.listdir(folder_path) if f.endwith('.pdf')]\n",
    "    results = []\n",
    "    \n",
    "    with concurrent.futures.ThreadPoolExecutor() as executor:    # ThreadPoolExecutor for concurrent processing of each pdf\n",
    "        future_to_pdf = {execuor.submit(process_pdf, pdf): pdf for pdf in pdf_files}\n",
    "        for future in concurrent.futures.as_completed(future_to_pdf):\n",
    "            pdf_path = future_to_pdf[future]\n",
    "            try:\n",
    "                result = future.result()\n",
    "                if result:\n",
    "                    results.append(result)\n",
    "            except Exxception as e:\n",
    "                logging.error(f\"Error processing {pdf_path}: {e}\")\n",
    "                \n",
    "    return results\n",
    "\n",
    "# Now main function to trigger the pipeline\n",
    "def main():\n",
    "    json_location = \"C:\\\\Users\\\\Subhash Gupta\\\\OneDrive\\\\Desktop\\\\Dataset.json\"\n",
    "    file_location_dict = json.load(open(json_location, \"r\"))\n",
    "    process_pdfs_in_folder(file_location_dict)"
   ]
  },
  {
   "cell_type": "markdown",
   "id": "7ce68d15-8124-4a15-915e-894bd76f3ac4",
   "metadata": {},
   "source": [
    "### 2. MongoDB Dataset Storage & JSON Updates"
   ]
  },
  {
   "cell_type": "code",
   "execution_count": 10,
   "id": "8ffdaede-710d-46b1-ae71-36c2c25921e3",
   "metadata": {},
   "outputs": [],
   "source": [
    "from pymongo import MongoClient\n",
    "\n",
    "# Writing MongoDB setup\n",
    "client = MongoClient('mongodb://localhost:27017/')\n",
    "db = client['pdf_database']\n",
    "collection = db['pdf_metadata']\n",
    "\n",
    "def store_metadata(metadata):   # tracking each document's basic detail \n",
    "    \"\"\"Store pdf metadata in MongoDB.\"\"\"\n",
    "    try:\n",
    "        collection.insert_one(metadata)\n",
    "        logging.info(f\"Stored metadata for {metadata['document_name']}\")\n",
    "    except Exception as e:\n",
    "        logging.error(f\"Error storing metadata in mongoDB: {e}\")\n",
    "\n",
    "def update_metadata_with_summary(document_name, summary, keywords):\n",
    "    \"\"\"Update the MongoDB entry for the given document with summary and keywords.\"\"\"\n",
    "    try:\n",
    "        collection.update_one(\n",
    "            {'document_name': document_name},\n",
    "            {'$set': {'summary': summary, 'keywords': keywords}}\n",
    "        )\n",
    "        logging.info(f\"Update {document_name} with summary and keywords.\")\n",
    "    except Exception as e:\n",
    "        logging.error(f\"Error updating {document_name} in MongoDB: {e}\")"
   ]
  },
  {
   "cell_type": "markdown",
   "id": "89a074f8-a688-4d9a-83be-ae69b5620c66",
   "metadata": {},
   "source": [
    "### 3. Summarization & Keyword Extraction"
   ]
  },
  {
   "cell_type": "code",
   "execution_count": 14,
   "id": "a814e7e6-462a-4e06-8a9b-f8e4426ef690",
   "metadata": {},
   "outputs": [],
   "source": [
    "from sklearn.feature_extraction.text import TfidfVectorizer\n",
    "\n",
    "def summarize_document(text, num_sentence=2):\n",
    "    \"\"\"Generate a simple summary of the document.\"\"\"\n",
    "    # Placeholder for summerization logic\n",
    "    return ' '.join(text.split()[:num_sentences]) # returning the few words as a placeholder summary\n",
    "def extract_keywords(text, num_keywords=5):\n",
    "    \"\"\"Extract keywords from the document.\"\"\"\n",
    "    vectorizer = TfidfVectorizer(stop_words='english', max_feature=num_keywords) # TfidfVectorizer provides meaningful keywords for each documents\n",
    "    X = vectorizer.fit_transform([text])\n",
    "    keywords = vectorizer.get_feature_names_out()\n",
    "    return keywords.tolist()\n",
    "\n",
    "def process_document(pdf_path):\n",
    "    \"\"\"Full processing of the pdf: summerization and keyword extraction.\"\"\"\n",
    "    try:\n",
    "        doc = fitz.open(pdf_path)\n",
    "        text = ''\n",
    "        for page in doc:\n",
    "            text += page.get_text()\n",
    "\n",
    "        summary = summerize_document(text, num_sentences=3)\n",
    "        keywords = extract_keywords(text, num_keywords=5)\n",
    "        \n",
    "        # Update MongoDB with summary and keywords\n",
    "        document_name = os.path.basename(pdf_path)\n",
    "        update_metadata_with_summary(document_name, summary, keywords)\n",
    "        \n",
    "    except Exception as e:\n",
    "        logging.error(f\"Error processing document {pdf_path}: {e}\")"
   ]
  },
  {
   "cell_type": "markdown",
   "id": "7e216e21-655c-4678-91af-2c70414201fb",
   "metadata": {},
   "source": [
    "### 4. JSON Structure & MongoDB Updates"
   ]
  },
  {
   "cell_type": "code",
   "execution_count": 18,
   "id": "5a4ddfe2-2932-4b4a-8266-1e68bcc4b008",
   "metadata": {},
   "outputs": [],
   "source": [
    "import json\n",
    "\n",
    "def format_json(metadata, summary, keywords):\n",
    "    \"\"\"Format the output as a JSON object.\"\"\"\n",
    "    output = {\n",
    "        'metadata' : metadata,\n",
    "        'summary': summary,\n",
    "        'keywords': keywords\n",
    "    }\n",
    "    return json.dumps(output)\n",
    "\n",
    "def srore_json_output(pdf_path):\n",
    "    \"\"\"Store the JSON output in MongoDB.\"\"\"\n",
    "    try:\n",
    "        metadata = get_pdf_info(pdf_path)\n",
    "        summary, keywords = process_document(pdf_path)\n",
    "        json_output = format_json(metadata, summary, keywords)\n",
    "        \n",
    "        # Now update MongoDB\n",
    "        document_name = metadata['document_name']\n",
    "        collection.update.one(\n",
    "            {'document_name': document_name},\n",
    "            {'$set': {'json_output': json_output}}\n",
    "        )\n",
    "    except Exception as e:\n",
    "        logging.error(f\"Error storing JSON output for {pdf_path}: {e}\")"
   ]
  },
  {
   "cell_type": "markdown",
   "id": "f9cc3d9a-9056-486f-b57f-e7379484cfa2",
   "metadata": {},
   "source": [
    "### 5. Concurrency & Performance"
   ]
  },
  {
   "cell_type": "code",
   "execution_count": 21,
   "id": "c61b551d-1d0e-41ae-8de4-8591f379c731",
   "metadata": {},
   "outputs": [],
   "source": [
    "import time\n",
    "\n",
    "def measure_performance(json_file_path):\n",
    "    \"\"\"Here measure the performance of PDF processing\"\"\"\n",
    "    # Load the JSON file to get the folder path\n",
    "    with open(json_file_path, \"r\") as f:\n",
    "        data = json.load(f)\n",
    "        \n",
    "    folder_path = data.get(\"path_file\")\n",
    "    if not folder_path:\n",
    "        logging.error(\"No 'path_file' key found in JSON.\")\n",
    "        return\n",
    "        \n",
    "    start_time = time.time()\n",
    "    \n",
    "    # Process the PDFs and store metadata\n",
    "    pdf_metadata_list = process_pdfs_from_folder(folder_path)\n",
    "    \n",
    "    end_time = time.time()\n",
    "    toltal_time = end_time - start_time\n",
    "    \n",
    "    logging.info(f\"Processed {len(pdf_metadata_list)} PDFs in {total_time:.2f} seconds.\")\n",
    "\n",
    "# Set the path to the JSON file containing the directory path\n",
    "json_file_path = r\"C:\\Users\\Subhash Gupta\\OneDrive\\Desktop\\Dataset.json\"\n",
    "measure_performance(json_file_path)"
   ]
  },
  {
   "cell_type": "code",
   "execution_count": null,
   "id": "792f0c9f-ec4a-49f9-8457-b608b87a5ebf",
   "metadata": {},
   "outputs": [],
   "source": []
  }
 ],
 "metadata": {
  "kernelspec": {
   "display_name": "Python 3 (ipykernel)",
   "language": "python",
   "name": "python3"
  },
  "language_info": {
   "codemirror_mode": {
    "name": "ipython",
    "version": 3
   },
   "file_extension": ".py",
   "mimetype": "text/x-python",
   "name": "python",
   "nbconvert_exporter": "python",
   "pygments_lexer": "ipython3",
   "version": "3.12.6"
  }
 },
 "nbformat": 4,
 "nbformat_minor": 5
}
